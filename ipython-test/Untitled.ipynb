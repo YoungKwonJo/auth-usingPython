{
 "cells": [
  {
   "cell_type": "markdown",
   "metadata": {},
   "source": [
    "http://phantomjs.org/download.html\n",
    "\n",
    "# phantomjs 사용법"
   ]
  },
  {
   "cell_type": "code",
   "execution_count": 1,
   "metadata": {},
   "outputs": [
    {
     "name": "stdout",
     "output_type": "stream",
     "text": [
      "Collecting bs4\n",
      "  Downloading https://files.pythonhosted.org/packages/10/ed/7e8b97591f6f456174139ec089c769f89a94a1a4025fe967691de971f314/bs4-0.0.1.tar.gz\n",
      "Collecting beautifulsoup4 (from bs4)\n",
      "\u001b[?25l  Downloading https://files.pythonhosted.org/packages/1d/5d/3260694a59df0ec52f8b4883f5d23b130bc237602a1411fa670eae12351e/beautifulsoup4-4.7.1-py3-none-any.whl (94kB)\n",
      "\u001b[K    100% |████████████████████████████████| 102kB 406kB/s a 0:00:01\n",
      "\u001b[?25hCollecting soupsieve>=1.2 (from beautifulsoup4->bs4)\n",
      "  Downloading https://files.pythonhosted.org/packages/2b/9f/7ea8732cc071c1253acf4a5aad507e12c57da011e615ed65ed853898e3ce/soupsieve-1.7.2-py2.py3-none-any.whl\n",
      "Building wheels for collected packages: bs4\n",
      "  Running setup.py bdist_wheel for bs4 ... \u001b[?25ldone\n",
      "\u001b[?25h  Stored in directory: /Users/youngkwonjo/Library/Caches/pip/wheels/a0/b0/b2/4f80b9456b87abedbc0bf2d52235414c3467d8889be38dd472\n",
      "Successfully built bs4\n",
      "Installing collected packages: soupsieve, beautifulsoup4, bs4\n",
      "Successfully installed beautifulsoup4-4.7.1 bs4-0.0.1 soupsieve-1.7.2\n"
     ]
    }
   ],
   "source": [
    "!pip install bs4"
   ]
  },
  {
   "cell_type": "code",
   "execution_count": 2,
   "metadata": {},
   "outputs": [
    {
     "name": "stdout",
     "output_type": "stream",
     "text": [
      "Collecting selenium\n",
      "\u001b[?25l  Downloading https://files.pythonhosted.org/packages/80/d6/4294f0b4bce4de0abf13e17190289f9d0613b0a44e5dd6a7f5ca98459853/selenium-3.141.0-py2.py3-none-any.whl (904kB)\n",
      "\u001b[K    100% |████████████████████████████████| 911kB 615kB/s ta 0:00:01\n",
      "\u001b[?25hCollecting urllib3 (from selenium)\n",
      "\u001b[?25l  Downloading https://files.pythonhosted.org/packages/62/00/ee1d7de624db8ba7090d1226aebefab96a2c71cd5cfa7629d6ad3f61b79e/urllib3-1.24.1-py2.py3-none-any.whl (118kB)\n",
      "\u001b[K    100% |████████████████████████████████| 122kB 573kB/s ta 0:00:01\n",
      "\u001b[?25hInstalling collected packages: urllib3, selenium\n",
      "Successfully installed selenium-3.141.0 urllib3-1.24.1\n"
     ]
    }
   ],
   "source": [
    "!pip install selenium"
   ]
  },
  {
   "cell_type": "code",
   "execution_count": null,
   "metadata": {},
   "outputs": [],
   "source": []
  },
  {
   "cell_type": "code",
   "execution_count": 3,
   "metadata": {},
   "outputs": [],
   "source": [
    "from bs4 import BeautifulSoup\n",
    "from selenium import webdriver\n"
   ]
  },
  {
   "cell_type": "code",
   "execution_count": 5,
   "metadata": {},
   "outputs": [],
   "source": [
    "driver_path = './phantomjs-2.1.1-linux-x86_64/bin/phantomjs'\n",
    "### apt-get install libfontconfig\n",
    "\n",
    "\n",
    "driver = webdriver.PhantomJS(driver_path)\n"
   ]
  },
  {
   "cell_type": "code",
   "execution_count": 6,
   "metadata": {},
   "outputs": [
    {
     "name": "stdout",
     "output_type": "stream",
     "text": [
      "[<table bgcolor=\"#CCCCCC\" border=\"0\" cellpadding=\"0\" cellspacing=\"1\" width=\"491\">\n",
      "<tbody><tr bgcolor=\"333333\">\n",
      "<td colspan=\"5\" height=\"2\"></td>\n",
      "</tr>\n",
      "<tr bgcolor=\"f7f7f7\">\n",
      "<td height=\"30\" width=\"86\"> <div align=\"center\"><font color=\"3D3D3D\"><strong>일 자</strong></font></div></td>\n",
      "<td height=\"30\" width=\"76\"> <div align=\"center\"><font color=\"3D3D3D\"><strong>시 각</strong></font></div></td>\n",
      "<td height=\"30\"> <div align=\"center\"><font color=\"3D3D3D\"><strong>집배점</strong></font></div></td>\n",
      "<td height=\"30\" width=\"80\"> <div align=\"center\"><font color=\"3D3D3D\"><strong>구 분</strong></font></div></td>\n",
      "<td height=\"30\" width=\"80\"> <div align=\"center\"><font color=\"3D3D3D\"><strong>담당자</strong></font></div></td>\n",
      "</tr>\n",
      "<tr bgcolor=\"#FFFFFF\" height=\"22\">\n",
      "<td align=\"center\">2019-01-02</td>\n",
      "<td align=\"center\">17:52:18</td>\n",
      "<td align=\"center\"><a href='javascript:tracking_bran(\"8278\")'>서울동작상도</a></td>\n",
      "<td align=\"center\">배달완료</td>\n",
      "<td align=\"center\"><a href='javascript:tracking_sm(\"572887\")'>김민식</a></td>\n",
      "</tr>\n",
      "<tr bgcolor=\"#FFFFFF\" height=\"22\">\n",
      "<td align=\"center\">2019-01-02</td>\n",
      "<td align=\"center\">09:59:14</td>\n",
      "<td align=\"center\"><a href='javascript:tracking_bran(\"8278\")'>서울동작상도</a></td>\n",
      "<td align=\"center\">배달출발</td>\n",
      "<td align=\"center\"><a href='javascript:tracking_sm(\"572887\")'>김민식</a></td>\n",
      "</tr>\n",
      "<tr bgcolor=\"#FFFFFF\" height=\"22\">\n",
      "<td align=\"center\">2019-01-02</td>\n",
      "<td align=\"center\">09:53:18</td>\n",
      "<td align=\"center\"><a href='javascript:tracking_bran(\"V164\")'>동작B</a></td>\n",
      "<td align=\"center\">간선하차</td>\n",
      "<td align=\"center\"><a href='javascript:tracking_sm(\"570594\")'>휠소터_1라인(동작BSub)</a></td>\n",
      "</tr>\n",
      "<tr bgcolor=\"#FFFFFF\" height=\"22\">\n",
      "<td align=\"center\">2019-01-02</td>\n",
      "<td align=\"center\">09:52:55</td>\n",
      "<td align=\"center\"><a href='javascript:tracking_bran(\"V164\")'>동작B</a></td>\n",
      "<td align=\"center\">간선하차</td>\n",
      "<td align=\"center\"><a href='javascript:tracking_sm(\"464564\")'>김경인</a></td>\n",
      "</tr>\n",
      "<tr bgcolor=\"#FFFFFF\" height=\"22\">\n",
      "<td align=\"center\">2018-12-31</td>\n",
      "<td align=\"center\">21:03:00</td>\n",
      "<td align=\"center\"><a href='javascript:tracking_bran(\"V040\")'>군포HUB</a></td>\n",
      "<td align=\"center\">간선상차</td>\n",
      "<td align=\"center\"><a href='javascript:tracking_sm(\"500925\")'>군포Hub_1</a></td>\n",
      "</tr>\n",
      "<tr bgcolor=\"#FFFFFF\" height=\"22\">\n",
      "<td align=\"center\">2018-12-31</td>\n",
      "<td align=\"center\">21:00:58</td>\n",
      "<td align=\"center\"><a href='javascript:tracking_bran(\"V040\")'>군포HUB</a></td>\n",
      "<td align=\"center\">간선하차</td>\n",
      "<td align=\"center\"><a href='javascript:tracking_sm(\"603098\")'>하차A_02</a></td>\n",
      "</tr>\n",
      "<tr bgcolor=\"#FFFFFF\" height=\"22\">\n",
      "<td align=\"center\">2018-12-31</td>\n",
      "<td align=\"center\">21:00:02</td>\n",
      "<td align=\"center\"><a href='javascript:tracking_bran(\"V040\")'>군포HUB</a></td>\n",
      "<td align=\"center\">간선하차</td>\n",
      "<td align=\"center\"><a href='javascript:tracking_sm(\"603276\")'>오토소터(General)</a></td>\n",
      "</tr>\n",
      "<tr bgcolor=\"#FFFFFF\" height=\"22\">\n",
      "<td align=\"center\">2018-12-31</td>\n",
      "<td align=\"center\">16:03:42</td>\n",
      "<td align=\"center\"><a href='javascript:tracking_bran(\"4408\")'>경기수동중앙</a></td>\n",
      "<td align=\"center\">집화처리</td>\n",
      "<td align=\"center\"><a href='javascript:tracking_sm(\"561108\")'>박현수(용인)</a></td>\n",
      "</tr>\n",
      "</tbody></table>]\n"
     ]
    }
   ],
   "source": [
    "driver_path = './phantomjs-2.1.1-linux-x86_64/bin/phantomjs'\n",
    "\n",
    "def get_article_urls(url, code, driver_path):\n",
    "    driver = webdriver.PhantomJS(driver_path)\n",
    "    driver.get(url+code)\n",
    "    soup = BeautifulSoup(driver.page_source, 'html.parser')\n",
    "\n",
    "    articles = soup.select('body > table > tbody > tr:nth-child(2) > td > table > tbody > tr:nth-child(8) > td:nth-child(2) > table')\n",
    "    print(articles)\n",
    "    articles2 = [s for s in articles[0].select('tr')][2]\n",
    "    articles31 = [s for s in articles2.select('td')][0].text\n",
    "    articles32 = [s for s in articles2.select('td')][1].text\n",
    "    articles4 = [s for s in articles2.select('td')][2].text\n",
    "    articles5 = [s for s in articles2.select('td')][3].text\n",
    "    \n",
    "    driver.close()\n",
    "\n",
    "    return [code,articles31,articles32,articles4,articles5]\n",
    "\n",
    "url = \"http://nplus.doortodoor.co.kr/web/tracking_hth_pop.jsp?slipno=\"\n",
    "output = get_article_urls(url,\"345709325576\", driver_path)"
   ]
  },
  {
   "cell_type": "code",
   "execution_count": 63,
   "metadata": {},
   "outputs": [
    {
     "data": {
      "text/plain": [
       "['345709325576', '2019-01-02', '17:52:18', '서울동작상도', '배달완료']"
      ]
     },
     "execution_count": 63,
     "metadata": {},
     "output_type": "execute_result"
    }
   ],
   "source": [
    "output"
   ]
  },
  {
   "cell_type": "code",
   "execution_count": null,
   "metadata": {},
   "outputs": [],
   "source": []
  },
  {
   "cell_type": "code",
   "execution_count": null,
   "metadata": {},
   "outputs": [],
   "source": []
  },
  {
   "cell_type": "code",
   "execution_count": 64,
   "metadata": {},
   "outputs": [
    {
     "name": "stdout",
     "output_type": "stream",
     "text": [
      "620268098670\n",
      "\n",
      "620268098681\n",
      "\n",
      "620268098692\n",
      "\n",
      "620268098703\n",
      "\n",
      "620268653103\n",
      "\n",
      "620268653140\n",
      "\n",
      "620268098736\n",
      "\n",
      "620268098762\n",
      "\n",
      "620268098773\n",
      "\n",
      "620268098795\n",
      "\n",
      "620268098810\n",
      "\n"
     ]
    }
   ],
   "source": [
    "f = open(\"input.txt\")\n",
    "output = []\n",
    "iii = 0\n",
    "while True:\n",
    "    line = f.readline()\n",
    "    if not line: break\n",
    "    print(line)\n",
    "    oo=get_article_urls(url,line.replace(\"\\n\",\"\"), driver_path)\n",
    "    output.append(oo)\n",
    "    iii += 1 \n",
    "    if iii>10: break\n",
    "f.close()\n"
   ]
  },
  {
   "cell_type": "code",
   "execution_count": 65,
   "metadata": {},
   "outputs": [
    {
     "data": {
      "text/plain": [
       "[['620268098670', '2018-12-27', '16:32:43', '경기안산공단', '배달완료'],\n",
       " ['620268098681', '2018-12-27', '13:35:44', '충남천안중앙', '배달완료'],\n",
       " ['620268098692', '2018-12-27', '19:25:05', '원미영업소', '배달완료'],\n",
       " ['620268098703', '2018-12-27', '14:20:07', '서울중랑상봉', '배달완료'],\n",
       " ['620268653103', '2018-12-27', '16:01:21', '충남논산동', '배달완료'],\n",
       " ['620268653140', '2018-12-27', '13:59:23', '부산사상모라3동', '배달완료'],\n",
       " ['620268098736', '2018-12-27', '16:20:49', '서울은평', '배달완료'],\n",
       " ['620268098762', '2018-12-27', '19:40:03', '신KS대리점', '배달완료'],\n",
       " ['620268098773', '2018-12-27', '17:34:46', '경북서경산', '배달완료'],\n",
       " ['620268098795', '2018-12-27', '18:07:51', '서울오류명화', '배달완료'],\n",
       " ['620268098810', '2018-12-27', '11:52:01', '경기의정부서부', '배달완료']]"
      ]
     },
     "execution_count": 65,
     "metadata": {},
     "output_type": "execute_result"
    }
   ],
   "source": [
    "output"
   ]
  },
  {
   "cell_type": "code",
   "execution_count": null,
   "metadata": {},
   "outputs": [],
   "source": []
  },
  {
   "cell_type": "code",
   "execution_count": 78,
   "metadata": {},
   "outputs": [],
   "source": [
    "import pandas as pd\n",
    "columns = [\"invoice\",\"date\",\"time\",\"대리점\",\"상태\"]\n",
    "index = [i[0] for i in output] \n",
    "not_index_list = [i[0:] for i in output]\n",
    "df = pd.DataFrame(not_index_list, columns = columns, index = index)\n",
    "\n",
    "df.to_csv(\"mylist.csv\",index=False)"
   ]
  },
  {
   "cell_type": "code",
   "execution_count": null,
   "metadata": {},
   "outputs": [],
   "source": []
  },
  {
   "cell_type": "code",
   "execution_count": null,
   "metadata": {},
   "outputs": [],
   "source": []
  }
 ],
 "metadata": {
  "kernelspec": {
   "display_name": "Python 3",
   "language": "python",
   "name": "python3"
  },
  "language_info": {
   "codemirror_mode": {
    "name": "ipython",
    "version": 3
   },
   "file_extension": ".py",
   "mimetype": "text/x-python",
   "name": "python",
   "nbconvert_exporter": "python",
   "pygments_lexer": "ipython3",
   "version": "3.7.2"
  }
 },
 "nbformat": 4,
 "nbformat_minor": 2
}
